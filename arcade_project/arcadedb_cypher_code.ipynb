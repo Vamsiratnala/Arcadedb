{
 "cells": [
  {
   "cell_type": "code",
   "execution_count": 54,
   "id": "de6b57fa-74cf-48ab-86ac-841823f0a11c",
   "metadata": {},
   "outputs": [],
   "source": [
    "import requests\n",
    "from requests.auth import HTTPBasicAuth \n",
    "BASE_URL = \"http://localhost:2480\"\n",
    "AUTH = HTTPBasicAuth(\"root\", \"playwithdata\")"
   ]
  },
  {
   "cell_type": "markdown",
   "id": "74508984-82f7-4dfb-a8ef-c8c69683f4aa",
   "metadata": {},
   "source": [
    "Create a database \"testdb\""
   ]
  },
  {
   "cell_type": "code",
   "execution_count": 55,
   "id": "81d88e3a-f28e-46b3-b25b-95f2b40a7d03",
   "metadata": {},
   "outputs": [
    {
     "name": "stdout",
     "output_type": "stream",
     "text": [
      "[CREATE DB] Status: 400\n",
      "Response: {\"error\":\"Cannot execute command\",\"detail\":\"Database \\u0027testdb\\u0027 already exists\",\"exception\":\"java.lang.IllegalArgumentException\"}\n",
      "\n"
     ]
    }
   ],
   "source": [
    "def create_database(name):\n",
    "    url = f\"{BASE_URL}/api/v1/server\"\n",
    "    payload = { \"command\": f\"create database {name}\" }\n",
    "    response = requests.post(url, json=payload, auth=AUTH)\n",
    "    print(f\"[CREATE DB] Status: {response.status_code}\\nResponse: {response.text}\\n\")\n",
    "\n",
    "create_database(\"testdb\")"
   ]
  },
  {
   "cell_type": "markdown",
   "id": "48fe486b-ead9-401c-8978-8a010fbfd6fd",
   "metadata": {},
   "source": [
    "Run queries "
   ]
  },
  {
   "cell_type": "code",
   "execution_count": 56,
   "id": "0406b51c-3c45-4941-9263-7e91981f9b5e",
   "metadata": {},
   "outputs": [],
   "source": [
    "def run_cypher(query:str):\n",
    "    url = f\"{BASE_URL}/api/v1/command/testdb\"\n",
    "    payload = {\"language\":\"Cypher\",\"command\":query}\n",
    "    response = requests.post(url,json = payload,auth = AUTH)\n",
    "    print(f\"[RUN CYPHER] Status:{response.status_code}\\n Response :{response.text}\\n\")\n",
    "    return response.json()"
   ]
  },
  {
   "cell_type": "code",
   "execution_count": null,
   "id": "e696e1ee-84de-43f2-bd83-1146c9902549",
   "metadata": {},
   "outputs": [],
   "source": [
    "Create vertices"
   ]
  },
  {
   "cell_type": "code",
   "execution_count": 8,
   "id": "ea55bb67-4331-4b7c-a073-de4c24c6344a",
   "metadata": {},
   "outputs": [
    {
     "name": "stdout",
     "output_type": "stream",
     "text": [
      "[RUN CYPHER] Status:200\n",
      " Response :{\"result\":[]}\n",
      "\n",
      "Nodes Created: {'result': []}\n"
     ]
    }
   ],
   "source": [
    "create_nodes_query = \"\"\"\n",
    "CREATE (:Person {name: 'Alice', age: 25})\n",
    "CREATE (:Person {name: 'Bob', age: 30})\n",
    "CREATE (:Person {name: 'Charlie', age: 35})\n",
    "\"\"\"\n",
    "\n",
    "result = run_cypher(create_nodes_query)\n",
    "print(\"Nodes Created:\", result)"
   ]
  },
  {
   "cell_type": "markdown",
   "id": "9474ffbb-dee9-401c-8b72-1d0525bd67c0",
   "metadata": {},
   "source": [
    "Create Realtions "
   ]
  },
  {
   "cell_type": "code",
   "execution_count": 11,
   "id": "bdd9851f-523a-4aab-9565-a0cdc759869a",
   "metadata": {},
   "outputs": [
    {
     "name": "stdout",
     "output_type": "stream",
     "text": [
      "[RUN CYPHER] Status:500\n",
      " Response :{\"error\":\"Error on transaction commit\",\"detail\":\"Error on executing Cypher query\",\"exception\":\"com.arcadedb.exception.CommandParsingException\"}\n",
      "\n"
     ]
    },
    {
     "data": {
      "text/plain": [
       "{'error': 'Error on transaction commit',\n",
       " 'detail': 'Error on executing Cypher query',\n",
       " 'exception': 'com.arcadedb.exception.CommandParsingException'}"
      ]
     },
     "execution_count": 11,
     "metadata": {},
     "output_type": "execute_result"
    }
   ],
   "source": [
    "# Create Alice -> Bob friendship\n",
    "run_cypher(\"\"\"\n",
    "MATCH (a:Person {name: 'Alice'}), (b:Person {name: 'Bob'})\n",
    "CREATE (a)-[:FRIEND]->(b)\n",
    "\n",
    "\n",
    "MATCH (b:Person {name: 'Bob'}), (c:Person {name: 'Charlie'})\n",
    "CREATE (b)-[:FRIEND]->(c)\n",
    "\"\"\")\n"
   ]
  },
  {
   "cell_type": "code",
   "execution_count": 13,
   "id": "8d57e8fa-139b-4a66-9e32-55f434d9c0ef",
   "metadata": {},
   "outputs": [
    {
     "name": "stdout",
     "output_type": "stream",
     "text": [
      "[RUN CYPHER] Status:200\n",
      " Response :{\"result\":[]}\n",
      "\n",
      "Relationships Created: {'result': []}\n",
      "[RUN CYPHER] Status:200\n",
      " Response :{\"result\":[]}\n",
      "\n",
      "Relationships Created: {'result': []}\n"
     ]
    }
   ],
   "source": [
    "create_relationships_query =[ \"\"\"\n",
    "MATCH (a:Person {name: 'Alice'}), (b:Person {name: 'Bob'})\n",
    "CREATE (a)-[:FRIEND]->(b)\n",
    "\"\"\",\"\"\"\n",
    "MATCH (b:Person {name: 'Bob'}), (c:Person {name: 'Charlie'})\n",
    "CREATE (b)-[:FRIEND]->(c)\n",
    "\"\"\"]\n",
    "for q in create_relationships_query:\n",
    "    result = run_cypher(q)\n",
    "    print(\"Relationships Created:\", result)"
   ]
  },
  {
   "cell_type": "code",
   "execution_count": 21,
   "id": "9f942d6a-0dd9-497e-80c3-9d01f3ef2daa",
   "metadata": {},
   "outputs": [
    {
     "name": "stdout",
     "output_type": "stream",
     "text": [
      "[RUN CYPHER] Status:200\n",
      " Response :{\"result\":[{\"person\":\"Alice\",\"friend\":\"Bob\"},{\"person\":\"Alice\",\"friend\":\"Bob\"},{\"person\":\"uday\",\"friend\":\"jay\"},{\"person\":\"uday\",\"friend\":\"kay\"},{\"person\":\"kay\",\"friend\":\"Diana\"},{\"person\":\"jay\",\"friend\":\"Eve\"},{\"person\":\"Eve\",\"friend\":\"uday\"}]}\n",
      "\n",
      "Alice is friends with Bob\n",
      "Alice is friends with Bob\n",
      "uday is friends with jay\n",
      "uday is friends with kay\n",
      "kay is friends with Diana\n",
      "jay is friends with Eve\n",
      "Eve is friends with uday\n"
     ]
    }
   ],
   "source": [
    "query_friends = \"\"\"\n",
    "MATCH (a:Person)-[:FRIEND]->(b:Person)\n",
    "RETURN a.name AS person, b.name AS friend\n",
    "\n",
    "\"\"\"\n",
    "\n",
    "result = run_cypher(query_friends)\n",
    "for row in result.get(\"result\", []):\n",
    "    print(f\"{row['person']} is friends with {row['friend']}\")\n"
   ]
  },
  {
   "cell_type": "code",
   "execution_count": 15,
   "id": "dbd49684-0236-44cb-9126-31313154f585",
   "metadata": {},
   "outputs": [
    {
     "data": {
      "text/plain": [
       "{'result': [{'person': 'Alice', 'friend': 'Bob'},\n",
       "  {'person': 'Alice', 'friend': 'Bob'},\n",
       "  {'person': 'Bob', 'friend': 'Charlie'},\n",
       "  {'person': 'Bob', 'friend': 'Charlie'}]}"
      ]
     },
     "execution_count": 15,
     "metadata": {},
     "output_type": "execute_result"
    }
   ],
   "source": [
    "result"
   ]
  },
  {
   "cell_type": "markdown",
   "id": "a7e46129-5c5e-467b-b4e9-24b5639a0fbc",
   "metadata": {},
   "source": [
    "Delete edges"
   ]
  },
  {
   "cell_type": "code",
   "execution_count": 16,
   "id": "d38d75db-cfe9-4252-9ce1-08f071274faa",
   "metadata": {},
   "outputs": [
    {
     "name": "stdout",
     "output_type": "stream",
     "text": [
      "[RUN CYPHER] Status:200\n",
      " Response :{\"result\":[]}\n",
      "\n"
     ]
    },
    {
     "data": {
      "text/plain": [
       "{'result': []}"
      ]
     },
     "execution_count": 16,
     "metadata": {},
     "output_type": "execute_result"
    }
   ],
   "source": [
    "run_cypher(\"\"\"\n",
    "MATCH (p:Person {name: 'Charlie'})-[r]-()\n",
    "DELETE r\n",
    "\"\"\")"
   ]
  },
  {
   "cell_type": "markdown",
   "id": "499dd7ab-db87-4313-a495-f3174f28fd75",
   "metadata": {},
   "source": [
    "Delete vertex"
   ]
  },
  {
   "cell_type": "code",
   "execution_count": 17,
   "id": "9a4d9742-7fee-42f3-8c87-96a7027a7f6c",
   "metadata": {},
   "outputs": [
    {
     "name": "stdout",
     "output_type": "stream",
     "text": [
      "[RUN CYPHER] Status:200\n",
      " Response :{\"result\":[]}\n",
      "\n"
     ]
    },
    {
     "data": {
      "text/plain": [
       "{'result': []}"
      ]
     },
     "execution_count": 17,
     "metadata": {},
     "output_type": "execute_result"
    }
   ],
   "source": [
    "run_cypher(\"\"\"\n",
    "MATCH (p:Person {name: 'Charlie'})\n",
    "DELETE p\n",
    "\"\"\")"
   ]
  },
  {
   "cell_type": "code",
   "execution_count": 19,
   "id": "54b6704e-b177-4fd9-a4e6-7efe2f031847",
   "metadata": {},
   "outputs": [
    {
     "name": "stdout",
     "output_type": "stream",
     "text": [
      "[RUN CYPHER] Status:200\n",
      " Response :{\"result\":[]}\n",
      "\n",
      "{'result': []}\n"
     ]
    }
   ],
   "source": [
    "create_node = \"\"\"\n",
    "CREATE (:Person {\n",
    "  name: 'vamsi',\n",
    "  age: 23,\n",
    "  email: 'vamsi@example.com',\n",
    "  location: 'Hyderabad',\n",
    "  skills: ['Python', 'AI', 'ML'],\n",
    "  isEngineer: true\n",
    "})\n",
    "\"\"\"\n",
    "\n",
    "print(run_cypher(create_node))"
   ]
  },
  {
   "cell_type": "code",
   "execution_count": 20,
   "id": "f29e6778-9e79-4b6f-8dad-8fddef767692",
   "metadata": {},
   "outputs": [
    {
     "name": "stdout",
     "output_type": "stream",
     "text": [
      "[RUN CYPHER] Status:200\n",
      " Response :{\"result\":[]}\n",
      "\n"
     ]
    },
    {
     "data": {
      "text/plain": [
       "{'result': []}"
      ]
     },
     "execution_count": 20,
     "metadata": {},
     "output_type": "execute_result"
    }
   ],
   "source": [
    "create_more_nodes = \"\"\"\n",
    "CREATE (a:Person {name: 'uday', age: 24}),\n",
    "       (b:Person {name: 'kay', age: 28}),\n",
    "       (c:Person {name: 'jay', age: 30}),\n",
    "       (d:Person {name: 'Diana', age: 26}),\n",
    "       (e:Person {name: 'Eve', age: 27})\n",
    "\n",
    "CREATE (a)-[:FRIEND]->(b),\n",
    "       (a)-[:FRIEND]->(c),\n",
    "       (b)-[:FRIEND]->(d),\n",
    "       (c)-[:FRIEND]->(e),\n",
    "       (e)-[:FRIEND]->(a)\n",
    "\"\"\"\n",
    "run_cypher(create_more_nodes)"
   ]
  },
  {
   "cell_type": "raw",
   "id": "ae5af2d6-2406-4d07-b0f8-6e56f25d009d",
   "metadata": {},
   "source": [
    "cypher_script = \"\"\"\n",
    "CREATE (c1:Company {name: 'OpenAI', location: 'San Francisco'}),\n",
    "       (c2:Company {name: 'Google', location: 'Mountain View'}),\n",
    "       (c3:Company {name: 'Microsoft', location: 'Redmond'})\n",
    "\n",
    "MATCH (a:Person {name: 'Alice'}),\n",
    "      (b:Person {name: 'Bob'}),\n",
    "      (c:Person {name: 'Charlie'}),\n",
    "      (d:Person {name: 'Diana'}),\n",
    "      (e:Person {name: 'Eve'}),\n",
    "      (v:Person {name: 'vamsi'}),\n",
    "      (c1:Company {name: 'OpenAI'}),\n",
    "      (c2:Company {name: 'Google'}),\n",
    "      (c3:Company {name: 'Microsoft'})\n",
    "\n",
    "CREATE (a)-[:WORKS_IN]->(c1),\n",
    "       (b)-[:WORKS_IN]->(c2),\n",
    "       (c)-[:WORKS_IN]->(c3),\n",
    "       (d)-[:WORKS_IN]->(c1),\n",
    "       (e)-[:WORKS_IN]->(c2),\n",
    "       (v)-[:WORKS_IN]->(c3)\n",
    "\"\"\""
   ]
  },
  {
   "cell_type": "markdown",
   "id": "10d947f4-1229-4136-bf4c-769880dcb6dc",
   "metadata": {},
   "source": [
    "Query for creating vertex"
   ]
  },
  {
   "cell_type": "code",
   "execution_count": 23,
   "id": "60e7d693-5311-4437-ad79-2921539c8423",
   "metadata": {},
   "outputs": [],
   "source": [
    "def format_properties(properties: dict) -> str:\n",
    "    return '{' + ', '.join(f\"{k}: '{v}'\" for k, v in properties.items()) + '}'\n",
    "\n",
    "\n",
    "def create_vertex(label: str, properties: dict):\n",
    "    props = format_properties(properties)\n",
    "    query = f\"CREATE (:{label} {props})\"\n",
    "    print(f\"[Create Vertex] {label}: {properties}\")\n",
    "    return run_cypher(query)"
   ]
  },
  {
   "cell_type": "markdown",
   "id": "fbcfbb8b-7e2f-4c41-99b3-3682294b968a",
   "metadata": {},
   "source": [
    "Query for creating relationship"
   ]
  },
  {
   "cell_type": "code",
   "execution_count": 24,
   "id": "bacfc1a9-03b0-48e7-8ef5-811f4bda6a07",
   "metadata": {},
   "outputs": [],
   "source": [
    "def create_relationship(from_label: str, from_props: dict,\n",
    "                        to_label: str, to_props: dict,\n",
    "                        rel_type: str, rel_props: dict = None):\n",
    "    from_match = format_properties(from_props)\n",
    "    to_match = format_properties(to_props)\n",
    "    rel_props_str = format_properties(rel_props) if rel_props else ''\n",
    "    query = f\"\"\"\n",
    "    MATCH (a:{from_label} {from_match}), (b:{to_label} {to_match})\n",
    "    CREATE (a)-[:{rel_type} {rel_props_str}]->(b)\n",
    "    \"\"\"\n",
    "    print(f\"[Create Relationship] {from_props} -[{rel_type}]-> {to_props}\")\n",
    "    return run_cypher(query)"
   ]
  },
  {
   "cell_type": "code",
   "execution_count": 35,
   "id": "1ed238ca-6e81-4d74-98ae-e95959d5a95e",
   "metadata": {},
   "outputs": [],
   "source": [
    "# Company data\n",
    "companies = [\n",
    "    {\"name\": \"OpenAI\", \"location\": \"San Francisco\"},\n",
    "    {\"name\": \"Google\", \"location\": \"Mountain View\"},\n",
    "    {\"name\": \"Microsoft\", \"location\": \"Redmond\"}\n",
    "]\n",
    "\n",
    "# Relations: person name → company name\n",
    "person_company_map = {\n",
    "    \"Alice\": \"OpenAI\",\n",
    "    \"Bob\": \"Google\",\n",
    "    \"Charlie\": \"Microsoft\",\n",
    "    \"Diana\": \"OpenAI\",\n",
    "    \"Eve\": \"Google\",\n",
    "    \"vamsi\": \"Microsoft\"\n",
    "}"
   ]
  },
  {
   "cell_type": "code",
   "execution_count": 36,
   "id": "4aea3e0b-ca2b-4ffe-9eb8-4ff94c59a8dd",
   "metadata": {},
   "outputs": [
    {
     "name": "stdout",
     "output_type": "stream",
     "text": [
      "[Create Vertex] Company: {'name': 'OpenAI', 'location': 'San Francisco'}\n",
      "[RUN CYPHER] Status:200\n",
      " Response :{\"result\":[]}\n",
      "\n",
      "[Create Vertex] Company: {'name': 'Google', 'location': 'Mountain View'}\n",
      "[RUN CYPHER] Status:200\n",
      " Response :{\"result\":[]}\n",
      "\n",
      "[Create Vertex] Company: {'name': 'Microsoft', 'location': 'Redmond'}\n",
      "[RUN CYPHER] Status:200\n",
      " Response :{\"result\":[]}\n",
      "\n",
      "[Create Relationship] {'name': 'Alice'} -[WORKS_IN]-> {'name': 'OpenAI'}\n",
      "[RUN CYPHER] Status:200\n",
      " Response :{\"result\":[]}\n",
      "\n",
      "[Create Relationship] {'name': 'Bob'} -[WORKS_IN]-> {'name': 'Google'}\n",
      "[RUN CYPHER] Status:200\n",
      " Response :{\"result\":[]}\n",
      "\n",
      "[Create Relationship] {'name': 'Charlie'} -[WORKS_IN]-> {'name': 'Microsoft'}\n",
      "[RUN CYPHER] Status:200\n",
      " Response :{\"result\":[]}\n",
      "\n",
      "[Create Relationship] {'name': 'Diana'} -[WORKS_IN]-> {'name': 'OpenAI'}\n",
      "[RUN CYPHER] Status:200\n",
      " Response :{\"result\":[]}\n",
      "\n",
      "[Create Relationship] {'name': 'Eve'} -[WORKS_IN]-> {'name': 'Google'}\n",
      "[RUN CYPHER] Status:200\n",
      " Response :{\"result\":[]}\n",
      "\n",
      "[Create Relationship] {'name': 'vamsi'} -[WORKS_IN]-> {'name': 'Microsoft'}\n",
      "[RUN CYPHER] Status:200\n",
      " Response :{\"result\":[]}\n",
      "\n"
     ]
    }
   ],
   "source": [
    "# 1. Create company vertices\n",
    "for company in companies:\n",
    "    create_vertex(\"Company\", company)\n",
    "\n",
    "# 2. Create WORKS_IN relationships\n",
    "for person, company in person_company_map.items():\n",
    "    create_relationship(\n",
    "        from_label=\"Person\", from_props={\"name\": person},\n",
    "        to_label=\"Company\", to_props={\"name\": company},\n",
    "        rel_type=\"WORKS_IN\"\n",
    "    )"
   ]
  },
  {
   "cell_type": "markdown",
   "id": "858c54f0-9177-443f-9478-f1221496a905",
   "metadata": {},
   "source": [
    "Modifying creating vertex and edges, \n",
    "only create vertices that are not present  #using merge \n",
    "# creating vertices "
   ]
  },
  {
   "cell_type": "code",
   "execution_count": null,
   "id": "b0597215-fc9a-41fa-b331-ee62b5ae638a",
   "metadata": {},
   "outputs": [],
   "source": [
    "def format_properties(properties: dict) -> str:\n",
    "    return '{' + ', '.join(f\"{k}: '{v}'\" for k, v in properties.items()) + '}'"
   ]
  },
  {
   "cell_type": "code",
   "execution_count": 46,
   "id": "571693bc-714d-4689-8528-2f4edee1d2ab",
   "metadata": {},
   "outputs": [],
   "source": [
    "def create_new_vertex(label: str, properties: dict = None):\n",
    "    if properties:\n",
    "        props = format_properties(properties)\n",
    "        query = f\"MERGE (:{label} {props})\"\n",
    "    else:\n",
    "        query = f\"MERGE (:{label})\"\n",
    "\n",
    "    print(f\"[MERGE Vertex] {label}: {properties}\")\n",
    "    return run_cypher(query)\n",
    "\n",
    "\n",
    "def create_new_relationship(from_label: str, from_props: dict,\n",
    "                        to_label: str, to_props: dict,\n",
    "                        rel_type: str, rel_props: dict = None):\n",
    "    from_match = format_properties(from_props)\n",
    "    to_match = format_properties(to_props)\n",
    "    rel_props_str = format_properties(rel_props) if rel_props else ''\n",
    "\n",
    "    query = f\"\"\"\n",
    "    MATCH (a:{from_label} {from_match}), (b:{to_label} {to_match})\n",
    "    MERGE (a)-[r:{rel_type} {rel_props_str}]->(b)\n",
    "    \"\"\"\n",
    "    print(f\"[MERGE Relationship] {from_props} -[{rel_type}]-> {to_props}\")\n",
    "    return run_cypher(query)"
   ]
  },
  {
   "cell_type": "markdown",
   "id": "1448a852-bb37-463a-aa54-0ef3e9a53307",
   "metadata": {},
   "source": [
    "# This should be created by LLM so we have to provide the labels ahead "
   ]
  },
  {
   "cell_type": "code",
   "execution_count": 69,
   "id": "758b62d6-c7e1-431d-b586-8a12ee563305",
   "metadata": {},
   "outputs": [
    {
     "name": "stdout",
     "output_type": "stream",
     "text": [
      "[MERGE Vertex] college: {'name': 'IIT Dhanbad', 'location': 'Dhanbad', 'tier': 1}\n",
      "[RUN CYPHER] Status:200\n",
      " Response :{\"result\":[]}\n",
      "\n"
     ]
    },
    {
     "data": {
      "text/plain": [
       "{'result': []}"
      ]
     },
     "execution_count": 69,
     "metadata": {},
     "output_type": "execute_result"
    }
   ],
   "source": [
    "create_new_vertex(\"college\",{\"name\":\"IIT Dhanbad\",\"location\":\"Dhanbad\",\"tier\":1}) "
   ]
  },
  {
   "cell_type": "code",
   "execution_count": 71,
   "id": "0c58cd9b-924a-4297-8ab9-e11e10745051",
   "metadata": {},
   "outputs": [
    {
     "name": "stdout",
     "output_type": "stream",
     "text": [
      "[MERGE Relationship] {'name': 'vamsi'} -[STUDIED_IN]-> {'name': 'IIT Dhanbad'}\n",
      "[RUN CYPHER] Status:200\n",
      " Response :{\"result\":[]}\n",
      "\n"
     ]
    },
    {
     "data": {
      "text/plain": [
       "{'result': []}"
      ]
     },
     "execution_count": 71,
     "metadata": {},
     "output_type": "execute_result"
    }
   ],
   "source": [
    "create_new_relationship(\"Person\",{\"name\":\"vamsi\"},\"college\",{\"name\":\"IIT Dhanbad\"},\"STUDIED_IN\")"
   ]
  },
  {
   "cell_type": "code",
   "execution_count": 48,
   "id": "7767f50e-d344-4c97-8e58-01d14345b206",
   "metadata": {},
   "outputs": [],
   "source": [
    "def delete_vertex(label: str, properties: dict = None, detach: bool = True):\n",
    "    match_clause = f\"(n:{label}\"\n",
    "\n",
    "    if properties:\n",
    "        props = format_properties(properties)\n",
    "        match_clause += f\" {props}\"\n",
    "    match_clause += \")\"\n",
    "\n",
    "    delete_clause = \"DETACH DELETE n\" if detach else \"DELETE n\"\n",
    "    query = f\"MATCH {match_clause} {delete_clause}\"\n",
    "\n",
    "    print(f\"[DELETE Vertex] Query: {query}\")\n",
    "    return run_cypher(query)\n"
   ]
  },
  {
   "cell_type": "code",
   "execution_count": 49,
   "id": "ab3e908e-2027-4df6-b53b-f43fd6e1ae66",
   "metadata": {},
   "outputs": [
    {
     "name": "stdout",
     "output_type": "stream",
     "text": [
      "[DELETE Vertex] Query: MATCH (n:vamsi) DETACH DELETE n\n",
      "[RUN CYPHER] Status:200\n",
      " Response :{\"result\":[]}\n",
      "\n"
     ]
    },
    {
     "data": {
      "text/plain": [
       "{'result': []}"
      ]
     },
     "execution_count": 49,
     "metadata": {},
     "output_type": "execute_result"
    }
   ],
   "source": [
    "delete_vertex(\"location\")"
   ]
  },
  {
   "cell_type": "code",
   "execution_count": 50,
   "id": "b37156c4-b3a4-4754-a66e-1174e67b4b78",
   "metadata": {},
   "outputs": [],
   "source": [
    "def delete_edge(from_label, from_props, rel_type, to_label, to_props):    from_clause = f\"(a:{from_label} {format_properties(from_props)})\"\n",
    "    to_clause = f\"(b:{to_label} {format_properties(to_props)})\"\n",
    "    query = f\"\"\"\n",
    "        MATCH {from_clause}-[r:{rel_type}]->{to_clause}\n",
    "        DELETE r\n",
    "    \"\"\"\n",
    "    print(f\"[DELETE Edge] Query: {query}\")\n",
    "    return run_cypher(query)"
   ]
  },
  {
   "cell_type": "code",
   "execution_count": 51,
   "id": "5080e3d8-6729-4e20-aa1f-4d71fa8fe52c",
   "metadata": {},
   "outputs": [
    {
     "name": "stdout",
     "output_type": "stream",
     "text": [
      "[DELETE Edge] Query: \n",
      "        MATCH (a:Person {name: 'Alice'})-[r:FRIEND]->(b:Person {name: 'Bob'})\n",
      "        DELETE r\n",
      "    \n",
      "[RUN CYPHER] Status:200\n",
      " Response :{\"result\":[]}\n",
      "\n"
     ]
    },
    {
     "data": {
      "text/plain": [
       "{'result': []}"
      ]
     },
     "execution_count": 51,
     "metadata": {},
     "output_type": "execute_result"
    }
   ],
   "source": [
    "# Delete a WORKS_AT relationship from 'Alice' to 'OpenAI'\n",
    "delete_edge(\n",
    "    from_label=\"Person\",\n",
    "    from_props={\"name\": \"Alice\"},\n",
    "    rel_type=\"FRIEND\",\n",
    "    to_label=\"Person\",\n",
    "    to_props={\"name\": \"Bob\"}\n",
    ")"
   ]
  },
  {
   "cell_type": "code",
   "execution_count": 67,
   "id": "9be5c682-e1ad-44a1-ae6a-311d9518d624",
   "metadata": {},
   "outputs": [
    {
     "name": "stdout",
     "output_type": "stream",
     "text": [
      "[RUN CYPHER] Status:200\n",
      " Response :{\"result\":[{\"person\":\"Bob\",\"Bob_company\":\"Google\",\"friend\":null,\"friend_company\":null}]}\n",
      "\n"
     ]
    },
    {
     "data": {
      "text/plain": [
       "{'result': [{'person': 'Bob',\n",
       "   'Bob_company': 'Google',\n",
       "   'friend': None,\n",
       "   'friend_company': None}]}"
      ]
     },
     "execution_count": 67,
     "metadata": {},
     "output_type": "execute_result"
    }
   ],
   "source": [
    "run_cypher(\"\"\"MATCH (u:Person {name: 'Bob'})-[:WORKS_IN]->(c1:Company)\n",
    "OPTIONAL MATCH (u)-[:FRIEND]->(f:Person)-[:WORKS_IN]->(c2:Company)\n",
    "RETURN u.name AS person, c1.name AS Bob_company, f.name AS friend, c2.name AS friend_company\n",
    "\"\"\")"
   ]
  },
  {
   "cell_type": "code",
   "execution_count": 61,
   "id": "febd25c2-3437-409d-8ad3-ddc6bd228936",
   "metadata": {},
   "outputs": [
    {
     "name": "stdout",
     "output_type": "stream",
     "text": [
      "[RUN CYPHER] Status:200\n",
      " Response :{\"result\":[{\"@rid\":\"#1:3\",\"@type\":\"Person\",\"name\":\"uday\",\"age\":24}]}\n",
      "\n"
     ]
    },
    {
     "data": {
      "text/plain": [
       "{'result': [{'@rid': '#1:3', '@type': 'Person', 'name': 'uday', 'age': 24}]}"
      ]
     },
     "execution_count": 61,
     "metadata": {},
     "output_type": "execute_result"
    }
   ],
   "source": [
    "run_cypher(\"MATCH (n) WHERE n.name = 'uday' RETURN n\")"
   ]
  },
  {
   "cell_type": "code",
   "execution_count": 81,
   "id": "22161898-e12f-4b99-ae5f-7fa3f5bd0762",
   "metadata": {},
   "outputs": [
    {
     "name": "stdout",
     "output_type": "stream",
     "text": [
      "[RUN CYPHER] Status:200\n",
      " Response :{\"result\":[{\"labels\":[\"Person\"]},{\"labels\":[\"Company\"]},{\"labels\":[\"college\"]}]}\n",
      "\n"
     ]
    },
    {
     "data": {
      "text/plain": [
       "{'result': [{'labels': ['Person']},\n",
       "  {'labels': ['Company']},\n",
       "  {'labels': ['college']}]}"
      ]
     },
     "execution_count": 81,
     "metadata": {},
     "output_type": "execute_result"
    }
   ],
   "source": [
    "run_cypher(\"\"\"MATCH (n)\n",
    "RETURN DISTINCT labels(n) AS labels\n",
    "\"\"\"\n",
    ")"
   ]
  },
  {
   "cell_type": "code",
   "execution_count": 78,
   "id": "270152fd-f779-4e84-a94d-9732416d737c",
   "metadata": {},
   "outputs": [
    {
     "name": "stdout",
     "output_type": "stream",
     "text": [
      "[RUN CYPHER] Status:200\n",
      " Response :{\"result\":[{\"relationship_type\":\"FRIEND\"},{\"relationship_type\":\"WORKS_IN\"},{\"relationship_type\":\"STUDIED_IN\"}]}\n",
      "\n"
     ]
    },
    {
     "data": {
      "text/plain": [
       "{'result': [{'relationship_type': 'FRIEND'},\n",
       "  {'relationship_type': 'WORKS_IN'},\n",
       "  {'relationship_type': 'STUDIED_IN'}]}"
      ]
     },
     "execution_count": 78,
     "metadata": {},
     "output_type": "execute_result"
    }
   ],
   "source": [
    "run_cypher(\"\"\"\n",
    "MATCH ()-[r]->()\n",
    "RETURN DISTINCT type(r) AS relationship_type\"\"\")"
   ]
  },
  {
   "cell_type": "code",
   "execution_count": 79,
   "id": "2ba71af3-8c9d-45a6-8722-0aff3426be4a",
   "metadata": {},
   "outputs": [
    {
     "name": "stdout",
     "output_type": "stream",
     "text": [
      "[RUN CYPHER] Status:200\n",
      " Response :{\"result\":[{\"properties\":[\"name\",\"age\"]},{\"properties\":[\"name\",\"age\",\"email\",\"location\",\"skills\",\"isEngineer\"]}]}\n",
      "\n"
     ]
    },
    {
     "data": {
      "text/plain": [
       "{'result': [{'properties': ['name', 'age']},\n",
       "  {'properties': ['name',\n",
       "    'age',\n",
       "    'email',\n",
       "    'location',\n",
       "    'skills',\n",
       "    'isEngineer']}]}"
      ]
     },
     "execution_count": 79,
     "metadata": {},
     "output_type": "execute_result"
    }
   ],
   "source": [
    "run_cypher(\"\"\"\n",
    "MATCH (n:Person)\n",
    "RETURN DISTINCT keys(n) AS properties\n",
    "\n",
    "\"\"\")"
   ]
  },
  {
   "cell_type": "code",
   "execution_count": 83,
   "id": "5e2dd8ec-3aae-4274-adc8-3ebfd1fff0a7",
   "metadata": {},
   "outputs": [],
   "source": [
    "# checking for the existing vertices with difflib"
   ]
  },
  {
   "cell_type": "code",
   "execution_count": 82,
   "id": "2e1594b9-c1f9-4b4d-84a1-78f782928ef0",
   "metadata": {},
   "outputs": [],
   "source": [
    "import difflib\n",
    "\n",
    "# Maintain a set of existing labels (ideally fetched from DB once)\n",
    "existing_labels = {\"Person\", \"Company\", \"City\"}\n",
    "\n",
    "def get_closest_label(label, existing_labels, threshold=0.8):\n",
    "    \"\"\"Returns closest existing label if similarity is high enough.\"\"\"\n",
    "    matches = difflib.get_close_matches(label, existing_labels, n=1, cutoff=threshold)\n",
    "    return matches[0] if matches else None\n",
    "\n",
    "def format_properties(properties: dict) -> str:\n",
    "    if not properties:\n",
    "        return \"\"\n",
    "    return '{' + ', '.join(f\"{k}: '{v}'\" for k, v in properties.items()) + '}'\n",
    "\n",
    "def create_vertex_smart(label: str, properties: dict = None):\n",
    "    # Try to find a close existing label\n",
    "    matched_label = get_closest_label(label, existing_labels)\n",
    "    if matched_label:\n",
    "        used_label = matched_label\n",
    "        print(f\"Using existing/close label: {matched_label}\")\n",
    "    else:\n",
    "        used_label = label\n",
    "        existing_labels.add(label)  # Track new label\n",
    "        print(f\"New label created: {label}\")\n",
    "\n",
    "    props = format_properties(properties)\n",
    "    query = f\"MERGE (:{used_label} {props})\"\n",
    "    print(f\"[Cypher Query] {query}\")\n",
    "    return query  # You can pass it to run_cypher(query)\n"
   ]
  },
  {
   "cell_type": "code",
   "execution_count": 86,
   "id": "6a94d8a3-cb67-4177-97c3-858eaec9f44c",
   "metadata": {},
   "outputs": [],
   "source": [
    "import difflib\n",
    "\n",
    "class GraphTypeCache:\n",
    "    def __init__(self):\n",
    "        self.vertex_types = set()\n",
    "        self.edge_types = set()\n",
    "        self.similarity_threshold = 0.8  # can be adjusted\n",
    "\n",
    "    def load_from_db(self):\n",
    "        label_query = \"MATCH (n) RETURN DISTINCT labels(n) AS labels\"\n",
    "        label_result = run_cypher(label_query)\n",
    "        self.vertex_types = {\n",
    "            label for row in label_result['result'] for label in row['labels']\n",
    "        }\n",
    "\n",
    "        rel_query = \"MATCH ()-[r]->() RETURN DISTINCT type(r) AS relationship_type\"\n",
    "        rel_result = run_cypher(rel_query)\n",
    "        self.edge_types = {\n",
    "            row['relationship_type'] for row in rel_result['result']\n",
    "        }\n",
    "\n",
    "    def find_closest_vertex_type(self, label: str) -> str:\n",
    "        match = difflib.get_close_matches(label, self.vertex_types, n=1, cutoff=self.similarity_threshold)\n",
    "        return match[0] if match else label\n",
    "\n",
    "    def find_closest_edge_type(self, rel: str) -> str:\n",
    "        match = difflib.get_close_matches(rel, self.edge_types, n=1, cutoff=self.similarity_threshold)\n",
    "        return match[0] if match else rel\n",
    "\n",
    "    def add_vertex_type(self, label: str):\n",
    "        self.vertex_types.add(label)\n",
    "\n",
    "    def add_edge_type(self, rel: str):\n",
    "        self.edge_types.add(rel)\n"
   ]
  },
  {
   "cell_type": "code",
   "execution_count": 87,
   "id": "f37e057e-f6d5-4ce8-9924-e987d4d9b149",
   "metadata": {},
   "outputs": [],
   "source": [
    "def create_vertex_if_not_exists(label: str, properties: dict = None):\n",
    "    label = type_cache.find_closest_vertex_type(label)\n",
    "\n",
    "    if label not in type_cache.vertex_types:\n",
    "        type_cache.add_vertex_type(label)\n",
    "\n",
    "    props = format_properties(properties) if properties else \"{}\"\n",
    "    query = f\"MERGE (:{label} {props})\"\n",
    "    print(f\"[MERGE Vertex] {label}: {props}\")\n",
    "    run_cypher(query)\n"
   ]
  },
  {
   "cell_type": "code",
   "execution_count": 88,
   "id": "27a6654e-d4f8-48c3-bbc4-5231e75f4a27",
   "metadata": {},
   "outputs": [],
   "source": [
    "def create_edge_if_not_exists(from_label: str, from_props: dict,\n",
    "                              to_label: str, to_props: dict,\n",
    "                              relation: str):\n",
    "    from_label = type_cache.find_closest_vertex_type(from_label)\n",
    "    to_label = type_cache.find_closest_vertex_type(to_label)\n",
    "    relation = type_cache.find_closest_edge_type(relation)\n",
    "\n",
    "    # Update cache if not matched before\n",
    "    if from_label not in type_cache.vertex_types:\n",
    "        type_cache.add_vertex_type(from_label)\n",
    "    if to_label not in type_cache.vertex_types:\n",
    "        type_cache.add_vertex_type(to_label)\n",
    "    if relation not in type_cache.edge_types:\n",
    "        type_cache.add_edge_type(relation)\n",
    "\n",
    "    from_props_str = format_properties(from_props)\n",
    "    to_props_str = format_properties(to_props)\n",
    "\n",
    "    query = f\"\"\"\n",
    "    MATCH (a:{from_label} {from_props_str}), (b:{to_label} {to_props_str})\n",
    "    MERGE (a)-[r:{relation}]->(b)\n",
    "    \"\"\"\n",
    "    print(f\"[MERGE Edge] ({from_label})-[:{relation}]->({to_label})\")\n",
    "    run_cypher(query)\n"
   ]
  },
  {
   "cell_type": "code",
   "execution_count": 89,
   "id": "7fd7607a-9cfd-4d99-a1f7-86a6f7b88e55",
   "metadata": {},
   "outputs": [
    {
     "name": "stdout",
     "output_type": "stream",
     "text": [
      "[RUN CYPHER] Status:200\n",
      " Response :{\"result\":[{\"labels\":[\"Person\"]},{\"labels\":[\"Company\"]},{\"labels\":[\"college\"]}]}\n",
      "\n",
      "[RUN CYPHER] Status:200\n",
      " Response :{\"result\":[{\"relationship_type\":\"FRIEND\"},{\"relationship_type\":\"WORKS_IN\"},{\"relationship_type\":\"STUDIED_IN\"}]}\n",
      "\n"
     ]
    }
   ],
   "source": [
    "type_cache = GraphTypeCache()\n",
    "type_cache.load_from_db()\n"
   ]
  },
  {
   "cell_type": "code",
   "execution_count": 91,
   "id": "41c8746d-0885-4472-93ae-9bdfc777366b",
   "metadata": {},
   "outputs": [
    {
     "name": "stdout",
     "output_type": "stream",
     "text": [
      "[MERGE Vertex] People: {name: 'rattu'}\n",
      "[RUN CYPHER] Status:200\n",
      " Response :{\"result\":[]}\n",
      "\n"
     ]
    }
   ],
   "source": [
    "create_vertex_if_not_exists(\"eople\",{\"name\":\"rattu\"})"
   ]
  },
  {
   "cell_type": "code",
   "execution_count": null,
   "id": "76308c9a-e15b-42c4-b332-13f60663aa93",
   "metadata": {},
   "outputs": [],
   "source": [
    "def create_new_vertex(label: str, properties: dict = None):\n",
    "    global known_vertex_labels\n",
    "\n",
    "    matched_label = get_semantic_match_llm(label, known_vertex_labels)\n",
    "\n",
    "    if matched_label == \"NEW\":\n",
    "        logger.info(f\"Adding new label: {label}\")\n",
    "        known_vertex_labels.add(label)\n",
    "        save_cache(known_vertex_labels, VERTEX_CACHE_FILE)\n",
    "        final_label = label\n",
    "    else:\n",
    "        final_label = matched_label\n",
    "\n",
    "    props = format_properties(properties)\n",
    "    query = f\"MERGE (:{final_label} {props})\"\n",
    "\n",
    "    logger.info(f\"Creating vertex: {final_label} {properties}\")\n",
    "    run_cypher(query)\n"
   ]
  },
  {
   "cell_type": "code",
   "execution_count": 92,
   "id": "49a10174-adb5-41e5-b9fd-fad54cc81e85",
   "metadata": {},
   "outputs": [],
   "source": [
    "def create_relationship(label1: str, props1: dict, relation: str, label2: str, props2: dict):\n",
    "    global known_vertex_labels, known_relationship_types\n",
    "\n",
    "    label1_match = get_semantic_match_llm(label1, known_vertex_labels)\n",
    "    if label1_match == \"NEW\":\n",
    "        known_vertex_labels.add(label1)\n",
    "        save_cache(known_vertex_labels, VERTEX_CACHE_FILE)\n",
    "        label1_match = label1\n",
    "        logger.info(f\"New vertex label added: {label1}\")\n",
    "\n",
    "    label2_match = get_semantic_match_llm(label2, known_vertex_labels)\n",
    "    if label2_match == \"NEW\":\n",
    "        known_vertex_labels.add(label2)\n",
    "        save_cache(known_vertex_labels, VERTEX_CACHE_FILE)\n",
    "        label2_match = label2\n",
    "        logger.info(f\"New vertex label added: {label2}\")\n",
    "\n",
    "    rel_match = get_semantic_match_llm(relation, known_relationship_types)\n",
    "    if rel_match == \"NEW\":\n",
    "        known_relationship_types.add(relation)\n",
    "        save_cache(known_relationship_types, EDGE_CACHE_FILE)\n",
    "        rel_match = relation\n",
    "        logger.info(f\"New relationship type added: {relation}\")\n",
    "\n",
    "    props1_str = format_properties(props1)\n",
    "    props2_str = format_properties(props2)\n",
    "\n",
    "    query = (\n",
    "        f\"MATCH (a:{label1_match} {props1_str}), (b:{label2_match} {props2_str}) \"\n",
    "        f\"MERGE (a)-[:{rel_match}]->(b)\"\n",
    "    )\n",
    "\n",
    "    logger.info(f\"Creating relationship: ({label1_match})-[:{rel_match}]->({label2_match})\")\n",
    "    run_cypher(query)\n"
   ]
  },
  {
   "cell_type": "code",
   "execution_count": 93,
   "id": "6e04433f-6b0d-4669-90bc-446d61b0ff89",
   "metadata": {},
   "outputs": [],
   "source": [
    "import logging\n",
    "\n",
    "logger = logging.getLogger(__name__)\n",
    "logger.setLevel(logging.INFO)\n",
    "\n",
    "def generate_and_run_query_llm(query_structure: list[dict]):\n",
    "    \"\"\"\n",
    "    Uses LLM to semantically map query structure to existing graph types, \n",
    "    generates Cypher, and executes it.\n",
    "\n",
    "    :param query_structure: List of nodes and edges like:\n",
    "        [\n",
    "            {\"label\": \"Person\", \"properties\": {\"name\": \"Uday\"}},\n",
    "            {\"relation\": \"WORKS_IN\"},\n",
    "            {\"label\": \"Company\"}\n",
    "        ]\n",
    "    \"\"\"\n",
    "    if not query_structure or len(query_structure) < 3:\n",
    "        logger.error(\"Invalid query structure: must include at least 2 vertices and a relation.\")\n",
    "        return\n",
    "\n",
    "    cypher_parts = []\n",
    "    var_counter = 0\n",
    "    previous_var = None\n",
    "\n",
    "    for item in query_structure:\n",
    "        if \"label\" in item:\n",
    "            label = item[\"label\"]\n",
    "            props = item.get(\"properties\", {})\n",
    "\n",
    "            # Semantic match label\n",
    "            matched_label = get_semantic_match_llm(label, known_vertex_labels)\n",
    "            if matched_label == \"NEW\":\n",
    "                logger.warning(f\"No match found for vertex label '{label}', using raw label.\")\n",
    "                matched_label = label\n",
    "\n",
    "            # Format properties\n",
    "            if props:\n",
    "                props_str = \"{\" + \", \".join(f\"{k}: '{v}'\" for k, v in props.items()) + \"}\"\n",
    "            else:\n",
    "                props_str = \"\"\n",
    "\n",
    "            var_name = f\"v{var_counter}\"\n",
    "            cypher_parts.append(f\"({var_name}:{matched_label} {props_str})\")\n",
    "            previous_var = var_name\n",
    "            var_counter += 1\n",
    "\n",
    "        elif \"relation\" in item:\n",
    "            relation = item[\"relation\"]\n",
    "\n",
    "            matched_rel = get_semantic_match_llm(relation, known_relationship_types)\n",
    "            if matched_rel == \"NEW\":\n",
    "                logger.warning(f\"No match found for relation '{relation}', using raw name.\")\n",
    "                matched_rel = relation\n",
    "\n",
    "            next_var = f\"v{var_counter}\"\n",
    "            cypher_parts.append(f\"-[:{matched_rel}]->\")\n",
    "            previous_var = next_var  # for chaining\n",
    "        else:\n",
    "            logger.error(f\"Unknown query component: {item}\")\n",
    "            return\n",
    "\n",
    "    full_match = \"MATCH \" + \"\".join(cypher_parts)\n",
    "    return_stmt = \"RETURN \" + \", \".join(f\"v{i}\" for i in range(var_counter))\n",
    "\n",
    "    final_query = f\"{full_match} {return_stmt}\"\n",
    "    logger.info(f\"Generated Cypher Query:\\n{final_query}\")\n",
    "\n",
    "    return run_cypher(final_query)\n"
   ]
  },
  {
   "cell_type": "code",
   "execution_count": 94,
   "id": "5f947be0-957d-4877-84c0-e1547d21a950",
   "metadata": {},
   "outputs": [
    {
     "ename": "NameError",
     "evalue": "name 'get_semantic_match_llm' is not defined",
     "output_type": "error",
     "traceback": [
      "\u001b[1;31m---------------------------------------------------------------------------\u001b[0m",
      "\u001b[1;31mNameError\u001b[0m                                 Traceback (most recent call last)",
      "Cell \u001b[1;32mIn[94], line 7\u001b[0m\n\u001b[0;32m      1\u001b[0m query_structure \u001b[38;5;241m=\u001b[39m [\n\u001b[0;32m      2\u001b[0m     {\u001b[38;5;124m\"\u001b[39m\u001b[38;5;124mlabel\u001b[39m\u001b[38;5;124m\"\u001b[39m: \u001b[38;5;124m\"\u001b[39m\u001b[38;5;124mPerson\u001b[39m\u001b[38;5;124m\"\u001b[39m, \u001b[38;5;124m\"\u001b[39m\u001b[38;5;124mproperties\u001b[39m\u001b[38;5;124m\"\u001b[39m: {\u001b[38;5;124m\"\u001b[39m\u001b[38;5;124mname\u001b[39m\u001b[38;5;124m\"\u001b[39m: \u001b[38;5;124m\"\u001b[39m\u001b[38;5;124mUday\u001b[39m\u001b[38;5;124m\"\u001b[39m}},\n\u001b[0;32m      3\u001b[0m     {\u001b[38;5;124m\"\u001b[39m\u001b[38;5;124mrelation\u001b[39m\u001b[38;5;124m\"\u001b[39m: \u001b[38;5;124m\"\u001b[39m\u001b[38;5;124mWORKS_IN\u001b[39m\u001b[38;5;124m\"\u001b[39m},\n\u001b[0;32m      4\u001b[0m     {\u001b[38;5;124m\"\u001b[39m\u001b[38;5;124mlabel\u001b[39m\u001b[38;5;124m\"\u001b[39m: \u001b[38;5;124m\"\u001b[39m\u001b[38;5;124mCompany\u001b[39m\u001b[38;5;124m\"\u001b[39m}\n\u001b[0;32m      5\u001b[0m ]\n\u001b[1;32m----> 7\u001b[0m generate_and_run_query_llm(query_structure)\n",
      "Cell \u001b[1;32mIn[93], line 32\u001b[0m, in \u001b[0;36mgenerate_and_run_query_llm\u001b[1;34m(query_structure)\u001b[0m\n\u001b[0;32m     29\u001b[0m props \u001b[38;5;241m=\u001b[39m item\u001b[38;5;241m.\u001b[39mget(\u001b[38;5;124m\"\u001b[39m\u001b[38;5;124mproperties\u001b[39m\u001b[38;5;124m\"\u001b[39m, {})\n\u001b[0;32m     31\u001b[0m \u001b[38;5;66;03m# Semantic match label\u001b[39;00m\n\u001b[1;32m---> 32\u001b[0m matched_label \u001b[38;5;241m=\u001b[39m get_semantic_match_llm(label, known_vertex_labels)\n\u001b[0;32m     33\u001b[0m \u001b[38;5;28;01mif\u001b[39;00m matched_label \u001b[38;5;241m==\u001b[39m \u001b[38;5;124m\"\u001b[39m\u001b[38;5;124mNEW\u001b[39m\u001b[38;5;124m\"\u001b[39m:\n\u001b[0;32m     34\u001b[0m     logger\u001b[38;5;241m.\u001b[39mwarning(\u001b[38;5;124mf\u001b[39m\u001b[38;5;124m\"\u001b[39m\u001b[38;5;124mNo match found for vertex label \u001b[39m\u001b[38;5;124m'\u001b[39m\u001b[38;5;132;01m{\u001b[39;00mlabel\u001b[38;5;132;01m}\u001b[39;00m\u001b[38;5;124m'\u001b[39m\u001b[38;5;124m, using raw label.\u001b[39m\u001b[38;5;124m\"\u001b[39m)\n",
      "\u001b[1;31mNameError\u001b[0m: name 'get_semantic_match_llm' is not defined"
     ]
    }
   ],
   "source": [
    "query_structure = [\n",
    "    {\"label\": \"Person\", \"properties\": {\"name\": \"Uday\"}},\n",
    "    {\"relation\": \"WORKS_IN\"},\n",
    "    {\"label\": \"Company\"}\n",
    "]\n",
    "\n",
    "generate_and_run_query_llm(query_structure)\n"
   ]
  },
  {
   "cell_type": "code",
   "execution_count": null,
   "id": "fc64e4df-665f-4e6c-918f-5824339dc25d",
   "metadata": {},
   "outputs": [],
   "source": []
  }
 ],
 "metadata": {
  "kernelspec": {
   "display_name": "Python 3 (ipykernel)",
   "language": "python",
   "name": "python3"
  },
  "language_info": {
   "codemirror_mode": {
    "name": "ipython",
    "version": 3
   },
   "file_extension": ".py",
   "mimetype": "text/x-python",
   "name": "python",
   "nbconvert_exporter": "python",
   "pygments_lexer": "ipython3",
   "version": "3.11.7"
  }
 },
 "nbformat": 4,
 "nbformat_minor": 5
}
